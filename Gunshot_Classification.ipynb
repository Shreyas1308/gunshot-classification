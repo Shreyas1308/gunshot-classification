{
  "nbformat": 4,
  "nbformat_minor": 0,
  "metadata": {
    "colab": {
      "provenance": [],
      "authorship_tag": "ABX9TyP0glvHD01XzVPb6wNIpvIg",
      "include_colab_link": true
    },
    "kernelspec": {
      "name": "python3",
      "display_name": "Python 3"
    },
    "language_info": {
      "name": "python"
    }
  },
  "cells": [
    {
      "cell_type": "markdown",
      "metadata": {
        "id": "view-in-github",
        "colab_type": "text"
      },
      "source": [
        "<a href=\"https://colab.research.google.com/github/Shreyas1308/gunshot-classification/blob/main/Gunshot_Classification.ipynb\" target=\"_parent\"><img src=\"https://colab.research.google.com/assets/colab-badge.svg\" alt=\"Open In Colab\"/></a>"
      ]
    },
    {
      "cell_type": "code",
      "execution_count": null,
      "metadata": {
        "id": "uxSjxoKPr5jP"
      },
      "outputs": [],
      "source": [
        "#!git clone https://github.com/Shreyas1308/gunshot-classification.git\n",
        "#%cd gunshot-classification\n",
        "#!pip install -r requirements.txt\n",
        "#!python app.py"
      ]
    }
  ]
}