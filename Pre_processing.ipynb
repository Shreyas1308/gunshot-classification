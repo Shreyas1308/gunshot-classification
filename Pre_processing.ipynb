{
  "nbformat": 4,
  "nbformat_minor": 0,
  "metadata": {
    "colab": {
      "provenance": [],
      "authorship_tag": "ABX9TyMLBBDxlZbgRwiD995lH2SE",
      "include_colab_link": true
    },
    "kernelspec": {
      "name": "python3",
      "display_name": "Python 3"
    },
    "language_info": {
      "name": "python"
    }
  },
  "cells": [
    {
      "cell_type": "markdown",
      "metadata": {
        "id": "view-in-github",
        "colab_type": "text"
      },
      "source": [
        "<a href=\"https://colab.research.google.com/github/Shreyas1308/gunshot-classification/blob/main/Pre_processing.ipynb\" target=\"_parent\"><img src=\"https://colab.research.google.com/assets/colab-badge.svg\" alt=\"Open In Colab\"/></a>"
      ]
    },
    {
      "cell_type": "code",
      "execution_count": null,
      "metadata": {
        "id": "uxSjxoKPr5jP"
      },
      "outputs": [],
      "source": [
        "#!git clone https://github.com/Shreyas1308/gunshot-classification.git\n",
        "#%cd gunshot-classification\n",
        "#!pip install -r requirements.txt\n",
        "#!python app.py\n",
        "\n",
        "#Uncomment this only if you're using git manually"
      ]
    },
    {
      "cell_type": "code",
      "source": [
        "import numpy as np\n",
        "import os\n",
        "import librosa\n",
        "import librosa.display\n",
        "import matplotlib.pyplot as plt"
      ],
      "metadata": {
        "id": "ttGrJn4E7UBa"
      },
      "execution_count": null,
      "outputs": []
    },
    {
      "cell_type": "code",
      "source": [
        "# Set your data directory\n",
        "RAW_AUDIO_DIR = \"\"\n",
        "SPEC_SAVE_DIR = \"\"\n",
        "os.makedirs(SPEC_SAVE_DIR, exist_ok=True)"
      ],
      "metadata": {
        "id": "kb6x9WFl95mh"
      },
      "execution_count": null,
      "outputs": []
    },
    {
      "cell_type": "code",
      "source": [
        "def pre_process_audio(fname, target_sr=22050, duration=2.0, n_mels=128, fmax=8000, out_shape=(128, 128)):\n",
        "    \"\"\"\n",
        "    Load, trim, and convert audio file to normalized log-mel spectrogram.\n",
        "    Returns the spectrogram as a numpy array.\n",
        "    \"\"\"\n",
        "    y, sr = librosa.load(fname, sr=target_sr, duration=duration)\n",
        "    if len(y) < int(target_sr*duration):\n",
        "        y = np.pad(y, (0, int(target_sr*duration) - len(y)))\n",
        "\n",
        "    y = y - np.mean(y)\n",
        "\n",
        "    \"\"\"\n",
        "    Convert to Mel-spectrogram\n",
        "    \"\"\"\n",
        "    S = librosa.feature.melspectrogram(y, sr=sr, n_mels=n_mels, fmax=fmax)\n",
        "    S_dB = librosa.power_to_db(S, ref=np.max)\n",
        "\n",
        "    \"\"\"\n",
        "    Normalize the spectrogram\n",
        "    \"\"\"\n",
        "    S_dB_norm = (S_dB - np.min(S_dB)) / (np.max(S_dB) - np.min(S_dB))\n",
        "\n",
        "    return S_dB_norm\n",
        "## do we need to resize?"
      ],
      "metadata": {
        "id": "TaYV-o_GBVhN"
      },
      "execution_count": null,
      "outputs": []
    },
    {
      "cell_type": "code",
      "source": [
        "def save_spectrogram_image(S, save_path):\n",
        "    \"\"\"\n",
        "    Save a Mel-spectrogram numpy array as a .png image.\n",
        "    \"\"\"\n",
        "    plt.figure(figsize=(1.28,1.28), dpi=100)\n",
        "    plt.axis('off')\n",
        "    librosa.display.specshow(S, cmap='magma')\n",
        "    plt.savefig(save_path, bbox_inches='tight', pad_inches=0)\n",
        "    plt.close()"
      ],
      "metadata": {
        "id": "j7sQP9ImF-Fb"
      },
      "execution_count": null,
      "outputs": []
    },
    {
      "cell_type": "code",
      "source": [
        "for fname in os.listdir(RAW_AUDIO_DIR):\n",
        "  if not fname.lower().endswith('.wav'):\n",
        "    continue\n",
        "  audio_path = os.path.join(RAW_AUDIO_DIR, fname)\n",
        "  spect = preprocess_audio(audio_path)\n",
        "  out_fname = os.path.splitext(fname)[0] + '.png'\n",
        "  save_path = os.path.join(SPEC_SAVE_DIR, out_fname)\n",
        "  save_spectrogram_image(spect, save_path)"
      ],
      "metadata": {
        "id": "PQUSKICQc_TP"
      },
      "execution_count": null,
      "outputs": []
    }
  ]
}