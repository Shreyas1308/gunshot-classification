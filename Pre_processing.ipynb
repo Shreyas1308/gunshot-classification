{
  "nbformat": 4,
  "nbformat_minor": 0,
  "metadata": {
    "colab": {
      "provenance": [],
      "authorship_tag": "ABX9TyNQ0+m0rlfYU/4zm8h8bKf/",
      "include_colab_link": true
    },
    "kernelspec": {
      "name": "python3",
      "display_name": "Python 3"
    },
    "language_info": {
      "name": "python"
    }
  },
  "cells": [
    {
      "cell_type": "markdown",
      "metadata": {
        "id": "view-in-github",
        "colab_type": "text"
      },
      "source": [
        "<a href=\"https://colab.research.google.com/github/Shreyas1308/gunshot-classification/blob/main/Pre_processing.ipynb\" target=\"_parent\"><img src=\"https://colab.research.google.com/assets/colab-badge.svg\" alt=\"Open In Colab\"/></a>"
      ]
    },
    {
      "cell_type": "code",
      "execution_count": null,
      "metadata": {
        "id": "uxSjxoKPr5jP"
      },
      "outputs": [],
      "source": [
        "#!git clone https://github.com/Shreyas1308/gunshot-classification.git\n",
        "#%cd gunshot-classification\n",
        "#!pip install -r requirements.txt\n",
        "#!python app.py\n",
        "\n",
        "#Uncomment this only if you're using git manually"
      ]
    },
    {
      "cell_type": "code",
      "source": [
        "import numpy as np\n",
        "import os\n",
        "import librosa\n",
        "import librosa.display\n",
        "import matplotlib.pyplot as plt"
      ],
      "metadata": {
        "id": "ttGrJn4E7UBa"
      },
      "execution_count": null,
      "outputs": []
    }
  ]
}