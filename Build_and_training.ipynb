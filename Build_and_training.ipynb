{
  "nbformat": 4,
  "nbformat_minor": 0,
  "metadata": {
    "colab": {
      "provenance": [],
      "authorship_tag": "ABX9TyPkCytudfWVyWBGXgyxlSbl",
      "include_colab_link": true
    },
    "kernelspec": {
      "name": "python3",
      "display_name": "Python 3"
    },
    "language_info": {
      "name": "python"
    }
  },
  "cells": [
    {
      "cell_type": "markdown",
      "metadata": {
        "id": "view-in-github",
        "colab_type": "text"
      },
      "source": [
        "<a href=\"https://colab.research.google.com/github/Shreyas1308/gunshot-classification/blob/main/Build_and_training.ipynb\" target=\"_parent\"><img src=\"https://colab.research.google.com/assets/colab-badge.svg\" alt=\"Open In Colab\"/></a>"
      ]
    },
    {
      "cell_type": "code",
      "execution_count": null,
      "metadata": {
        "id": "Ym0ISDzLzkdb"
      },
      "outputs": [],
      "source": [
        "import numpy as np\n",
        "import panda as pd\n",
        "from sklearn.model_selection import train_test_split\n",
        "from tensorflow.keras.utils import to_categorical\n",
        "from tensorflow.keras import layers, models, callbacks\n",
        "from sklearn.metrics import confusion_matrix, ConfusionMatrixDisplay\n",
        "import matplotlib.pyplot as plt"
      ]
    },
    {
      "cell_type": "markdown",
      "source": [
        "Loading the dataset"
      ],
      "metadata": {
        "id": "pCZEUUhU8ull"
      }
    },
    {
      "cell_type": "code",
      "source": [
        "# CSV should have columns: [filename, gun_type]\n",
        "labels_df = pd.read_csv('')\n",
        "img_dir = \"\""
      ],
      "metadata": {
        "id": "SYxA9Pxh8e2j"
      },
      "execution_count": null,
      "outputs": []
    },
    {
      "cell_type": "code",
      "source": [
        "X = []\n",
        "y = []\n",
        "\n",
        "for idx, row in labels_df.iterrows():\n",
        "    img_path = os.path.join(img_dir, row['filename'])\n",
        "    img = Image.open(img_path).convert('RGB')\n",
        "    img = img.resize((128,128))  # Just in case\n",
        "    X.append(np.array(img)/255.0)  # Normalize to [0,1]\n",
        "    y.append(row['gun_type'])\n",
        "\n",
        "X = np.array(X)\n",
        "gun_types = sorted(list(set(y)))\n",
        "type2idx = {gt: i for i, gt in enumerate(gun_types)}\n",
        "y = np.array([type2idx[gt] for gt in y])\n",
        "\n",
        "print(\"Shape of X:\", X.shape)\n",
        "print(\"Shape of y:\", y.shape)\n",
        "print(\"Unique classes:\", gun_types)"
      ],
      "metadata": {
        "id": "A5ypUVIK-NpP"
      },
      "execution_count": null,
      "outputs": []
    },
    {
      "cell_type": "markdown",
      "source": [
        "Split Data"
      ],
      "metadata": {
        "id": "Efcn7Ss7-fnY"
      }
    },
    {
      "cell_type": "code",
      "source": [
        "X_train, X_temp, y_train, y_temp = train_test_split(X, y, test_size=0.3, stratify=y, random_state=42)\n",
        "X_val, X_test, y_val, y_test = train_test_split(X_temp, y_temp, test_size=0.5, stratify=y_temp, random_state=42)\n",
        "\n",
        "num_classes = len(gun_types)\n",
        "y_train_cat = to_categorical(y_train, num_classes)\n",
        "y_val_cat = to_categorical(y_val, num_classes)\n",
        "y_test_cat = to_categorical(y_test, num_classes)"
      ],
      "metadata": {
        "id": "0WiwCKoS-fN_"
      },
      "execution_count": null,
      "outputs": []
    },
    {
      "cell_type": "markdown",
      "source": [
        "Visualize samples"
      ],
      "metadata": {
        "id": "wwfT6qVh-xcY"
      }
    },
    {
      "cell_type": "code",
      "source": [
        "plt.figure(figsize=(10,5))\n",
        "for i in range(5):\n",
        "    plt.subplot(1,5,i+1)\n",
        "    plt.imshow(X_train[i])\n",
        "    plt.title(f\"Class: {gun_types[y_train[i]]}\")\n",
        "    plt.axis('off')\n",
        "plt.show()"
      ],
      "metadata": {
        "id": "j4l49Xef-zmZ"
      },
      "execution_count": null,
      "outputs": []
    },
    {
      "cell_type": "markdown",
      "source": [
        "Building the training Model"
      ],
      "metadata": {
        "id": "lyAljL3P-6s_"
      }
    },
    {
      "cell_type": "code",
      "source": [
        "input_shape = X_train.shape[1:]\n",
        "\n",
        "model = models.Sequential([\n",
        "    layers.Conv2D(32, (3,3), activation='relu', input_shape=input_shape),\n",
        "    layers.MaxPooling2D((2,2)),\n",
        "    layers.Conv2D(64, (3,3), activation='relu'),\n",
        "    layers.MaxPooling2D((2,2)),\n",
        "    layers.Conv2D(128, (3,3), activation='relu'),\n",
        "    layers.MaxPooling2D((2,2)),\n",
        "    layers.Flatten(),\n",
        "    layers.Dense(128, activation='relu'),\n",
        "    layers.Dropout(0.5),\n",
        "    layers.Dense(num_classes, activation='softmax')\n",
        "])\n",
        "\n",
        "model.compile(optimizer='adam',\n",
        "              loss='categorical_crossentropy',\n",
        "              metrics=['accuracy'])\n",
        "\n",
        "model.summary()"
      ],
      "metadata": {
        "id": "rjB1-2qP-8wb"
      },
      "execution_count": null,
      "outputs": []
    },
    {
      "cell_type": "markdown",
      "source": [
        "Callbacks"
      ],
      "metadata": {
        "id": "ltGTE11k_HJv"
      }
    },
    {
      "cell_type": "code",
      "source": [
        "cb_earlystop = callbacks.EarlyStopping(monitor='val_loss', patience=5, restore_best_weights=True)\n",
        "cb_modelckpt = callbacks.ModelCheckpoint('best_gun_type_model.h5', save_best_only=True)"
      ],
      "metadata": {
        "id": "YmC-dbbw_JHB"
      },
      "execution_count": null,
      "outputs": []
    },
    {
      "cell_type": "markdown",
      "source": [
        "Start Training"
      ],
      "metadata": {
        "id": "IEZulGoL_MWf"
      }
    },
    {
      "cell_type": "code",
      "source": [
        "history = model.fit(\n",
        "    X_train, y_train_cat,\n",
        "    epochs=30,\n",
        "    batch_size=32,\n",
        "    validation_data=(X_val, y_val_cat),\n",
        "    callbacks=[cb_earlystop, cb_modelckpt]\n",
        ")"
      ],
      "metadata": {
        "id": "nHJFzrls_L1Q"
      },
      "execution_count": null,
      "outputs": []
    },
    {
      "cell_type": "markdown",
      "source": [
        "Evaluation"
      ],
      "metadata": {
        "id": "LxrzD6wF_RS3"
      }
    },
    {
      "cell_type": "code",
      "source": [
        "test_loss, test_acc = model.evaluate(X_test, y_test_cat)\n",
        "print(f\"Test accuracy: {test_acc:.2%}\")"
      ],
      "metadata": {
        "id": "VsVXM_YL_Th7"
      },
      "execution_count": null,
      "outputs": []
    },
    {
      "cell_type": "markdown",
      "source": [
        "Confusion Matrix"
      ],
      "metadata": {
        "id": "Zq7p2z7Y_d0p"
      }
    },
    {
      "cell_type": "code",
      "source": [
        "y_pred = model.predict(X_test)\n",
        "y_pred_classes = np.argmax(y_pred, axis=1)\n",
        "cm = confusion_matrix(y_test, y_pred_classes)\n",
        "disp = ConfusionMatrixDisplay(cm, display_labels=gun_types)\n",
        "disp.plot(xticks_rotation='vertical')\n",
        "plt.show()"
      ],
      "metadata": {
        "id": "nK8V84EK_YS7"
      },
      "execution_count": null,
      "outputs": []
    },
    {
      "cell_type": "markdown",
      "source": [
        "Saving the model"
      ],
      "metadata": {
        "id": "VDDgQs9h_sGh"
      }
    },
    {
      "cell_type": "code",
      "source": [
        "#model.save('gun_type_model_final.h5')"
      ],
      "metadata": {
        "id": "oWnjONa2_uIp"
      },
      "execution_count": null,
      "outputs": []
    }
  ]
}